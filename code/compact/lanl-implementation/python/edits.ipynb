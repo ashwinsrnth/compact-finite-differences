{
 "cells": [
  {
   "cell_type": "markdown",
   "metadata": {},
   "source": [
    "# Emulated Distributed Tridiagonal Solver"
   ]
  },
  {
   "cell_type": "markdown",
   "metadata": {},
   "source": [
    "### Creating the system"
   ]
  },
  {
   "cell_type": "markdown",
   "metadata": {},
   "source": [
    "The tridiagonal system we want to solve is one with constant coefficients; first, we create it:"
   ]
  },
  {
   "cell_type": "code",
   "execution_count": 19,
   "metadata": {
    "collapsed": true
   },
   "outputs": [],
   "source": [
    "import numpy as np"
   ]
  },
  {
   "cell_type": "code",
   "execution_count": 20,
   "metadata": {
    "collapsed": false
   },
   "outputs": [],
   "source": [
    "system_size = 20\n",
    "a = np.ones(system_size)*(1./4)\n",
    "b = np.ones(system_size)\n",
    "c = np.ones(system_size)*(1./4)\n",
    "a[-1] = 2\n",
    "c[0] = 2\n",
    "rhs = np.random.rand(system_size)"
   ]
  },
  {
   "cell_type": "markdown",
   "metadata": {},
   "source": [
    "### Solving the system with SciPy"
   ]
  },
  {
   "cell_type": "markdown",
   "metadata": {},
   "source": [
    "We solve it using SciPy's `solve_banded`:"
   ]
  },
  {
   "cell_type": "code",
   "execution_count": 21,
   "metadata": {
    "collapsed": true
   },
   "outputs": [],
   "source": [
    "from scipy.linalg import solve_banded\n",
    "\n",
    "# an interface to SciPy's tridiagonal\n",
    "# solver - used for testing\n",
    "def scipy_solve_banded(a, b, c, rhs):\n",
    "    '''\n",
    "    Solve the tridiagonal system described\n",
    "    by a, b, c, and rhs.\n",
    "    a: lower off-diagonal array (first element ignored)\n",
    "    b: diagonal array\n",
    "    c: upper off-diagonal array (last element ignored)\n",
    "    rhs: right hand side of the system\n",
    "    '''\n",
    "    l_and_u = (1, 1)\n",
    "    ab = np.vstack([np.append(0, c[:-1]),\n",
    "                    b,\n",
    "                    np.append(a[1:], 0)])\n",
    "    x = solve_banded(l_and_u, ab, rhs)\n",
    "    return x\n"
   ]
  },
  {
   "cell_type": "code",
   "execution_count": 22,
   "metadata": {
    "collapsed": false
   },
   "outputs": [],
   "source": [
    "x_scipy = scipy_solve_banded(a, b, c, rhs)"
   ]
  },
  {
   "cell_type": "markdown",
   "metadata": {},
   "source": [
    "### A Standard LU Solver\n"
   ]
  },
  {
   "cell_type": "code",
   "execution_count": 23,
   "metadata": {
    "collapsed": false
   },
   "outputs": [],
   "source": [
    "def LU_tridag(a, b, c, r, u):\n",
    "    gam = np.zeros_like(a)\n",
    "    N = a.size\n",
    "    \n",
    "    beta = 1./b[0]\n",
    "    u[0] = beta*r[0]\n",
    "    \n",
    "    for j in range(1, N):\n",
    "        gam[j] = beta*c[j-1]\n",
    "        beta = 1./(b[j] - a[j]*gam[j])\n",
    "        u[j] = beta*(r[j] - a[j]*u[j-1])\n",
    "    \n",
    "    for j in range(N-2, -1, -1):\n",
    "        u[j] = u[j] - gam[j+1]*u[j+1]\n",
    "    \n",
    "    return\n"
   ]
  },
  {
   "cell_type": "code",
   "execution_count": 24,
   "metadata": {
    "collapsed": false
   },
   "outputs": [],
   "source": [
    "x_LU = np.zeros_like(a)\n",
    "LU_tridag(a, b, c, rhs, x_LU)"
   ]
  },
  {
   "cell_type": "code",
   "execution_count": 25,
   "metadata": {
    "collapsed": false
   },
   "outputs": [],
   "source": [
    "from numpy.testing import assert_allclose\n",
    "assert_allclose(x_LU, x_scipy)"
   ]
  },
  {
   "cell_type": "markdown",
   "metadata": {},
   "source": [
    "### Pre-computing $\\beta$"
   ]
  },
  {
   "cell_type": "code",
   "execution_count": 26,
   "metadata": {
    "collapsed": true
   },
   "outputs": [],
   "source": [
    "def precompute_beta(a, b, c, beta):\n",
    "    # pre-computes the beta required\n",
    "    # by the tridiagonal solver\n",
    "    \n",
    "    N = a.size\n",
    "    beta[0] = 1./b[0]\n",
    "    \n",
    "    for j in range(1, N):\n",
    "        beta[j] = 1./(b[j] - a[j]*beta[j-1]*c[j-1])\n",
    "    \n",
    "    return\n",
    "\n",
    "def LU_tridag_precomputed_beta(a, b, c, r, beta, u):\n",
    "    # The standard LU solver with\n",
    "    # beta pre-computed:\n",
    "\n",
    "    gam = np.zeros_like(a)\n",
    "    N = a.size\n",
    "    \n",
    "    u[0] = beta[0]*r[0]\n",
    "    \n",
    "    for j in range(1, N):\n",
    "        gam[j] = beta[j-1]*c[j-1]\n",
    "        u[j] = beta[j]*(r[j] - a[j]*u[j-1])\n",
    "    \n",
    "    \n",
    "    for j in range(N-2, -1, -1):\n",
    "        u[j] = u[j] - gam[j+1]*u[j+1]\n",
    "\n",
    "    return\n",
    "    "
   ]
  },
  {
   "cell_type": "code",
   "execution_count": 27,
   "metadata": {
    "collapsed": false
   },
   "outputs": [],
   "source": [
    "x_LU_precomputed_beta = np.zeros_like(a, dtype=np.float64)\n",
    "beta = np.zeros_like(a, dtype=np.float64)\n",
    "precompute_beta(a, b, c, beta)\n",
    "LU_tridag_precomputed_beta(a, b, c, rhs, beta, x_LU_precomputed_beta)"
   ]
  },
  {
   "cell_type": "code",
   "execution_count": 28,
   "metadata": {
    "collapsed": true
   },
   "outputs": [],
   "source": [
    "assert_allclose(x_LU_precomputed_beta, x_scipy)"
   ]
  },
  {
   "cell_type": "markdown",
   "metadata": {},
   "source": [
    "### Pre-computing both $\\beta$ and $\\gamma$:"
   ]
  },
  {
   "cell_type": "code",
   "execution_count": 29,
   "metadata": {
    "collapsed": true
   },
   "outputs": [],
   "source": [
    "def precompute_beta_gam(a, b, c, beta, gam):\n",
    "    # pre-computes the beta and gam required\n",
    "    # by the tridiagonal solver\n",
    "    \n",
    "    N = a.size\n",
    "    beta[0] = 1./b[0]\n",
    "    gam[0] = 0.0\n",
    "    \n",
    "    for j in range(1, N):\n",
    "        beta[j] = 1./(b[j] - a[j]*beta[j-1]*c[j-1])\n",
    "        gam[j] = beta[j-1]*c[j-1]\n",
    "    \n",
    "    return\n",
    "    \n",
    "\n",
    "def LU_tridag_precomputed_beta_gam(a, b, c, r, beta, gam, u):\n",
    "    # The standard LU solver with\n",
    "    # beta and gam pre-computed:\n",
    "\n",
    "    N = a.size\n",
    "    \n",
    "    u[0] = beta[0]*r[0]\n",
    "    \n",
    "    for j in range(1, N):\n",
    "        u[j] = beta[j]*(r[j] - a[j]*u[j-1])\n",
    "        \n",
    "    for j in range(N-2, -1, -1):\n",
    "        u[j] = u[j] - gam[j+1]*u[j+1]\n",
    "    \n",
    "    return\n",
    "    "
   ]
  },
  {
   "cell_type": "code",
   "execution_count": 30,
   "metadata": {
    "collapsed": false
   },
   "outputs": [],
   "source": [
    "x_LU_precomputed_beta_gam = np.zeros_like(a, dtype=np.float64)\n",
    "beta = np.zeros_like(a, dtype=np.float64)\n",
    "gam = np.zeros_like(a, dtype=np.float64)\n",
    "precompute_beta_gam(a, b, c, beta, gam)\n",
    "LU_tridag_precomputed_beta_gam(a, b, c, rhs, beta, gam, x_LU_precomputed_beta_gam)"
   ]
  },
  {
   "cell_type": "code",
   "execution_count": 31,
   "metadata": {
    "collapsed": true
   },
   "outputs": [],
   "source": [
    "assert_allclose(x_LU_precomputed_beta_gam, x_scipy)"
   ]
  },
  {
   "cell_type": "markdown",
   "metadata": {},
   "source": [
    "### An emulated distributed solver"
   ]
  },
  {
   "cell_type": "code",
   "execution_count": 38,
   "metadata": {
    "collapsed": false
   },
   "outputs": [],
   "source": [
    "def tridag_edits(a, b, c, r, beta, gam, u, nprocs):\n",
    "    #############\n",
    "    # L-R sweep\n",
    "    #############\n",
    "    system_size = a.size\n",
    "    assert(system_size%nprocs == 0)\n",
    "\n",
    "    local_size = system_size/nprocs\n",
    "    \n",
    "    phi = np.zeros_like(a, dtype=np.float64)\n",
    "    psi = np.zeros_like(a, dtype=np.float64)\n",
    "    \n",
    "    # each \"processor\" computes its phi and psi\n",
    "    for proc, start in enumerate(range(0, system_size, local_size)):\n",
    "        if proc == 0:\n",
    "            phi[start+0] = 0\n",
    "            psi[start+0] = 1\n",
    "        else:\n",
    "            phi[start+0] = beta[start+0]*r[start+0]\n",
    "            psi[start+0] = -a[1]*beta[start+0]\n",
    "        \n",
    "        for i in range(1, local_size):\n",
    "            phi[start+i] = beta[start+i]*(r[start+i] - a[1]*phi[start+i-1])\n",
    "            psi[start+i] = -a[1]*beta[start+i]*psi[start+i-1]\n",
    "        if proc == nprocs-1:\n",
    "            phi[start+i] = beta[start+i]*(r[start+i] - a[-1]*phi[start+i-1])\n",
    "            psi[start+local_size-1] = -a[-1]*beta[start+i]*psi[start+i-1]\n",
    "        \n",
    "    \n",
    "    # each \"processor\" posts its last phi and psi\n",
    "    phi_lasts = phi[local_size-1::local_size]\n",
    "    psi_lasts = psi[local_size-1::local_size]\n",
    "    \n",
    "    # each \"processor\" uses the last phi and psi from the \n",
    "    # previous \"processors\" to compute its u_tilda:\n",
    "    # the first \"processor\" just uses u_0\n",
    "    u_tildas = np.zeros(nprocs, dtype=np.float64)\n",
    "    u[0] = beta[0]*r[0]\n",
    "    for proc, start in enumerate(range(0, system_size, local_size)):\n",
    "        if proc == 0:\n",
    "            u_tildas[proc] = u[0]\n",
    "        else:\n",
    "            product_2 = 1.0\n",
    "            for i in range(proc):\n",
    "                # compute the product terms:\n",
    "                product_1 = 1.0 \n",
    "                for j in range(i+1, proc):\n",
    "                    product_1 *= psi_lasts[j]\n",
    "                u_tildas[proc] += phi_lasts[i]*product_1\n",
    "                product_2 *= psi_lasts[i]\n",
    "                \n",
    "            u_tildas[proc] += u[0]*product_2\n",
    "            \n",
    "    \n",
    "    # Now that each processor has\n",
    "    # its u_tilda,\n",
    "    # the entire u can be computed (in parallel, in fact):    \n",
    "    for proc, start in enumerate(range(0, system_size, local_size)):\n",
    "        u[start] = u_tildas[proc]\n",
    "        for i in range(local_size):\n",
    "            u[start+i] = phi[start+i] + psi[start+i]*u_tildas[proc]\n",
    "    \n",
    "    #############\n",
    "    # R-L sweep\n",
    "    #############\n",
    "    \n",
    "    # each \"processor\" will need the first 'gam' from the next processor:\n",
    "    gam_firsts = gam[0::local_size]\n",
    "    \n",
    "    # each \"processor\" computes its phi and psi\n",
    "    for proc, end in reversed(list(enumerate(range(local_size-1, system_size, local_size)))):\n",
    "        if proc == nprocs-1:\n",
    "            phi[end-0] = 0\n",
    "            psi[end-0] = 1\n",
    "        else:\n",
    "            phi[end-0] = u[end-0]\n",
    "            psi[end-0] = -gam_firsts[proc+1]\n",
    "            \n",
    "        for i in range(1, local_size):\n",
    "            phi[end-i] = u[end-i] - gam[end-i+1]*phi[end-i+1]\n",
    "            psi[end-i] = -gam[end-i+1]*psi[end-i+1]\n",
    "    \n",
    "    # each \"processor\" posts its first phi and psi\n",
    "    phi_firsts = phi[0::local_size]\n",
    "    psi_firsts = psi[0::local_size]\n",
    "    \n",
    "    # each \"processor\" uses the first phi and psi from the \n",
    "    # next \"processors\" to compute its x_tilda:\n",
    "    # the last \"processor\" just uses x_(n-1)\n",
    "    x_tildas = np.zeros(nprocs, dtype=np.float64)\n",
    "    x = np.zeros_like(u, dtype=np.float64)\n",
    "    x[-1] = u[-1]\n",
    "    for proc, end in reversed(list(enumerate(range(local_size-1, system_size, local_size)))):\n",
    "        if proc == nprocs-1:\n",
    "            x_tildas[proc] = x[-1]\n",
    "        else:\n",
    "            for i in range(proc+2, nprocs):\n",
    "                product_1 = 1.0\n",
    "                for j in range(proc+1, i):\n",
    "                    product_1 *= psi_firsts[j]\n",
    "                x_tildas[proc] += phi_firsts[i]*product_1\n",
    "            \n",
    "            product_2 = 1.0    \n",
    "            for i in range(proc+1, nprocs):\n",
    "                product_2 *= psi_firsts[i]\n",
    "                \n",
    "            x_tildas[proc] += phi_firsts[proc+1] + x[-1]*product_2\n",
    "    \n",
    "    # Now that each processor has\n",
    "    # its x_tilda,\n",
    "    # the entire x can be computed (in parallel, in fact):\n",
    "    for proc, end in reversed(list(enumerate(range(local_size-1, system_size, local_size)))):\n",
    "        for i in range(local_size):\n",
    "            x[end-i] = phi[end-i] + x_tildas[proc]*psi[end-i]\n",
    "    return x\n",
    "    "
   ]
  },
  {
   "cell_type": "code",
   "execution_count": 39,
   "metadata": {
    "collapsed": false
   },
   "outputs": [],
   "source": [
    "x_edits = np.zeros_like(a, dtype=np.float64)\n",
    "beta = np.zeros_like(a, dtype=np.float64)\n",
    "gam = np.zeros_like(a, dtype=np.float64)\n",
    "precompute_beta_gam(a, b, c, beta, gam)\n",
    "x = tridag_edits(a, b, c, rhs, beta, gam, x_edits, 4)\n",
    "assert_allclose(x_scipy, x)"
   ]
  },
  {
   "cell_type": "code",
   "execution_count": 40,
   "metadata": {
    "collapsed": false
   },
   "outputs": [
    {
     "ename": "NameError",
     "evalue": "name 'plt' is not defined",
     "output_type": "error",
     "traceback": [
      "\u001b[1;31m---------------------------------------------------------------------------\u001b[0m",
      "\u001b[1;31mNameError\u001b[0m                                 Traceback (most recent call last)",
      "\u001b[1;32m<ipython-input-40-0dc6bd0c9682>\u001b[0m in \u001b[0;36m<module>\u001b[1;34m()\u001b[0m\n\u001b[1;32m----> 1\u001b[1;33m \u001b[0mplt\u001b[0m\u001b[1;33m.\u001b[0m\u001b[0mplot\u001b[0m\u001b[1;33m(\u001b[0m\u001b[0md\u001b[0m\u001b[1;33m)\u001b[0m\u001b[1;33m\u001b[0m\u001b[0m\n\u001b[0m",
      "\u001b[1;31mNameError\u001b[0m: name 'plt' is not defined"
     ]
    }
   ],
   "source": []
  },
  {
   "cell_type": "code",
   "execution_count": null,
   "metadata": {
    "collapsed": true
   },
   "outputs": [],
   "source": []
  },
  {
   "cell_type": "code",
   "execution_count": null,
   "metadata": {
    "collapsed": true
   },
   "outputs": [],
   "source": []
  }
 ],
 "metadata": {
  "kernelspec": {
   "display_name": "Python 2",
   "language": "python",
   "name": "python2"
  },
  "language_info": {
   "codemirror_mode": {
    "name": "ipython",
    "version": 2
   },
   "file_extension": ".py",
   "mimetype": "text/x-python",
   "name": "python",
   "nbconvert_exporter": "python",
   "pygments_lexer": "ipython2",
   "version": "2.7.6"
  }
 },
 "nbformat": 4,
 "nbformat_minor": 0
}
